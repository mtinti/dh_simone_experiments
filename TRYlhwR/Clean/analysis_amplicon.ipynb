{
 "cells": [
  {
   "cell_type": "markdown",
   "metadata": {},
   "source": [
    "![title](static/wcar.png)\n",
    "#  Analysis of ss-oligo mediated editing\n",
    "\n",
    "    Wellcome Centre for Anti-Infectives Research\n",
    "    School of Life Sciences, University of Dundee\n"
   ]
  },
  {
   "cell_type": "code",
   "execution_count": null,
   "metadata": {},
   "outputs": [],
   "source": []
  },
  {
   "cell_type": "code",
   "execution_count": 2,
   "metadata": {},
   "outputs": [],
   "source": [
    "from Bio import SeqIO\n",
    "from Bio.Seq import Seq\n",
    "import gzip\n",
    "import re\n",
    "from tqdm import tqdm_notebook\n",
    "import pandas as pd"
   ]
  },
  {
   "cell_type": "code",
   "execution_count": 6,
   "metadata": {},
   "outputs": [],
   "source": [
    "#import multiprocessing\n",
    "#import time\n",
    "\n",
    "#from tqdm import tqdm\n",
    "#from joblib import Parallel, delayed\n"
   ]
  },
  {
   "cell_type": "code",
   "execution_count": 7,
   "metadata": {},
   "outputs": [],
   "source": [
    "gencode = {\n",
    "    'ATA':'I', 'ATC':'I', 'ATT':'I', 'ATG':'M',\n",
    "    'ACA':'T', 'ACC':'T', 'ACG':'T', 'ACT':'T',\n",
    "    'AAC':'N', 'AAT':'N', 'AAA':'K', 'AAG':'K',\n",
    "    'AGC':'S', 'AGT':'S', 'AGA':'R', 'AGG':'R',\n",
    "    'CTA':'L', 'CTC':'L', 'CTG':'L', 'CTT':'L',\n",
    "    'CCA':'P', 'CCC':'P', 'CCG':'P', 'CCT':'P',\n",
    "    'CAC':'H', 'CAT':'H', 'CAA':'Q', 'CAG':'Q',\n",
    "    'CGA':'R', 'CGC':'R', 'CGG':'R', 'CGT':'R',\n",
    "    'GTA':'V', 'GTC':'V', 'GTG':'V', 'GTT':'V',\n",
    "    'GCA':'A', 'GCC':'A', 'GCG':'A', 'GCT':'A',\n",
    "    'GAC':'D', 'GAT':'D', 'GAA':'E', 'GAG':'E',\n",
    "    'GGA':'G', 'GGC':'G', 'GGG':'G', 'GGT':'G',\n",
    "    'TCA':'S', 'TCC':'S', 'TCG':'S', 'TCT':'S',\n",
    "    'TTC':'F', 'TTT':'F', 'TTA':'L', 'TTG':'L',\n",
    "    'TAC':'Y', 'TAT':'Y', 'TAA':'*', 'TAG':'*',\n",
    "    'TGC':'C', 'TGT':'C', 'TGA':'*', 'TGG':'W'}\n",
    "gene_count = {}\n",
    "for n in gencode:\n",
    "    gene_count[n]=0\n",
    "gene_count['failed']=0"
   ]
  },
  {
   "cell_type": "code",
   "execution_count": null,
   "metadata": {},
   "outputs": [],
   "source": []
  },
  {
   "cell_type": "code",
   "execution_count": 8,
   "metadata": {},
   "outputs": [],
   "source": [
    "r_query = 'AAGTC(...)AAGCTGGACG'\n",
    "f_query = 'CGTCCAGCTT(...)GACTT'\n",
    "patterns = [f_query,r_query]\n",
    "\n",
    "\n",
    "primer_f = 'TGCTGTGAAAAAGTTGCATGA'\n",
    "primer_r = 'CAGGCGGGCGATAGTTAAG'\n",
    "\n",
    "\n",
    "\n",
    "def find_codon(inseq):\n",
    "    found = ''\n",
    "    out = re.findall(f_query, inseq)\n",
    "    if len(out) > 0:\n",
    "        temp_f = out[0]\n",
    "        found = temp_f\n",
    "        return found\n",
    "          \n",
    "    out = re.findall(r_query, inseq)\n",
    "    if len(out) > 0:\n",
    "        temp_r = out[0]\n",
    "        dna = Seq(temp_r)\n",
    "        temp_r = str(dna.reverse_complement())\n",
    "        found = temp_r\n",
    "        return found\n",
    "    \n",
    "    return found\n",
    "        \n",
    "\n",
    "def out_codon(indata):\n",
    "    r1, r2 = indata[0],indata[1]\n",
    "    out_1 = find_codon(str(r1.seq))\n",
    "    out_2 = find_codon(str(r2.seq))\n",
    "    if (out_1 == out_2) and (len(out_1) == 3) and ('N' not in out_1):\n",
    "        return out_1\n",
    "    else:\n",
    "        return 'failed'\n",
    "\n",
    "#all_df = []\n",
    "#replace_list = eval(open('vars5.txt').read())\n",
    "#for n in tqdm_notebook(replace_list):\n",
    "#    t_gene_count = gene_count.copy()\n",
    "#    f_1 = n['experiment']+'/'+'data'+'/'+n['base_fastq']+'1.fq.gz'\n",
    "#    f_2 = n['experiment']+'/'+'data'+'/'+n['base_fastq']+'2.fq.gz'\n",
    "#    print(f_1,f_2) \n",
    "#    file_1 = SeqIO.parse(gzip.open(f_1,\"rt\"),\"fastq\")\n",
    "#    file_2 = SeqIO.parse(gzip.open(f_2,\"rt\"),\"fastq\")\n",
    "    \n",
    "#    count=0    \n",
    "#    for r1,r2 in tqdm_notebook(zip(file_1,file_2)):\n",
    "#        count+=1\n",
    "#        t_gene_count[out_codon((r1,r2))]+=1\n",
    "#    t_gene_count = pd.DataFrame.from_dict(t_gene_count,orient='index')\n",
    "#    t_gene_count.columns = [n['experiment']]\n",
    "#    all_df.append(t_gene_count)\n",
    "    \n",
    "    \n",
    "\n",
    "#from multiprocessing import Pool\n",
    "#if __name__ == '__main__':\n",
    "#    with Pool(processes=4) as pool:\n",
    "#        all_codons = pool.map(out_codon, [(r1,r2) for r1,r2 in zip(file_1,file_2)])\n",
    "    #for r1,r2 in tqdm_notebook(zip(file_1,file_2)):\n",
    "    #    all_codons.append(out_codon((r1,r2)))\n",
    "    \n"
   ]
  },
  {
   "cell_type": "code",
   "execution_count": 10,
   "metadata": {},
   "outputs": [
    {
     "data": {
      "application/vnd.jupyter.widget-view+json": {
       "model_id": "4d5836c3d25641ef875d9d69e7f298a2",
       "version_major": 2,
       "version_minor": 0
      },
      "text/plain": [
       "HBox(children=(IntProgress(value=0, max=9), HTML(value='')))"
      ]
     },
     "metadata": {},
     "output_type": "display_data"
    },
    {
     "name": "stdout",
     "output_type": "stream",
     "text": [
      "\n"
     ]
    },
    {
     "data": {
      "text/plain": [
       "[('1-Amp/data/V350002156_L1_TRYlhwR021518-521_1.fq.gz',\n",
       "  '1-Amp/data/V350002156_L1_TRYlhwR021518-521_2.fq.gz',\n",
       "  {'experiment': '1-Amp',\n",
       "   'g_version': 'tb427',\n",
       "   'base_fastq': 'V350002156_L1_TRYlhwR021518-521_'}),\n",
       " ('2-Amp/data/V350002156_L1_TRYlhwR021519-522_1.fq.gz',\n",
       "  '2-Amp/data/V350002156_L1_TRYlhwR021519-522_2.fq.gz',\n",
       "  {'experiment': '2-Amp',\n",
       "   'g_version': 'tb427',\n",
       "   'base_fastq': 'V350002156_L1_TRYlhwR021519-522_'}),\n",
       " ('3-Amp/data/V350002156_L1_TRYlhwR021520-523_1.fq.gz',\n",
       "  '3-Amp/data/V350002156_L1_TRYlhwR021520-523_2.fq.gz',\n",
       "  {'experiment': '3-Amp',\n",
       "   'g_version': 'tb427',\n",
       "   'base_fastq': 'V350002156_L1_TRYlhwR021520-523_'}),\n",
       " ('5-Amp/data/V350002156_L1_TRYlhwR021522-525_1.fq.gz',\n",
       "  '5-Amp/data/V350002156_L1_TRYlhwR021522-525_2.fq.gz',\n",
       "  {'experiment': '5-Amp',\n",
       "   'g_version': 'tb427',\n",
       "   'base_fastq': 'V350002156_L1_TRYlhwR021522-525_'}),\n",
       " ('6-Amp/data/V350002156_L1_TRYlhwR021523-526_1.fq.gz',\n",
       "  '6-Amp/data/V350002156_L1_TRYlhwR021523-526_2.fq.gz',\n",
       "  {'experiment': '6-Amp',\n",
       "   'g_version': 'tb427',\n",
       "   'base_fastq': 'V350002156_L1_TRYlhwR021523-526_'}),\n",
       " ('7-Amp/data/V350002156_L1_TRYlhwR021524-527_1.fq.gz',\n",
       "  '7-Amp/data/V350002156_L1_TRYlhwR021524-527_2.fq.gz',\n",
       "  {'experiment': '7-Amp',\n",
       "   'g_version': 'tb427',\n",
       "   'base_fastq': 'V350002156_L1_TRYlhwR021524-527_'}),\n",
       " ('8-Amp/data/V350002156_L1_TRYlhwR021525-528_1.fq.gz',\n",
       "  '8-Amp/data/V350002156_L1_TRYlhwR021525-528_2.fq.gz',\n",
       "  {'experiment': '8-Amp',\n",
       "   'g_version': 'tb427',\n",
       "   'base_fastq': 'V350002156_L1_TRYlhwR021525-528_'}),\n",
       " ('9-Amp/data/V350002156_L1_TRYlhwR021526-529_1.fq.gz',\n",
       "  '9-Amp/data/V350002156_L1_TRYlhwR021526-529_2.fq.gz',\n",
       "  {'experiment': '9-Amp',\n",
       "   'g_version': 'tb427',\n",
       "   'base_fastq': 'V350002156_L1_TRYlhwR021526-529_'}),\n",
       " ('10-Amp/data/V350002156_L1_TRYlhwR021527-530_1.fq.gz',\n",
       "  '10-Amp/data/V350002156_L1_TRYlhwR021527-530_2.fq.gz',\n",
       "  {'experiment': '10-Amp',\n",
       "   'g_version': 'tb427',\n",
       "   'base_fastq': 'V350002156_L1_TRYlhwR021527-530_'})]"
      ]
     },
     "execution_count": 10,
     "metadata": {},
     "output_type": "execute_result"
    }
   ],
   "source": [
    "all_files = []\n",
    "replace_list = eval(open('vars5.txt').read())\n",
    "for n in tqdm_notebook(replace_list):\n",
    "    t_gene_count = gene_count.copy()\n",
    "    f_1 = n['experiment']+'/'+'data'+'/'+n['base_fastq']+'1.fq.gz'\n",
    "    f_2 = n['experiment']+'/'+'data'+'/'+n['base_fastq']+'2.fq.gz'\n",
    "    all_files.append((f_1,f_2,n) )\n",
    "all_files"
   ]
  },
  {
   "cell_type": "code",
   "execution_count": 12,
   "metadata": {},
   "outputs": [
    {
     "name": "stdout",
     "output_type": "stream",
     "text": [
      "\n",
      "\n",
      "\n",
      "\n",
      "\n",
      "\n",
      "\n",
      "\n",
      "\n",
      "CPU times: user 1.04 s, sys: 462 ms, total: 1.5 s\n",
      "Wall time: 20min 44s\n"
     ]
    },
    {
     "data": {
      "text/plain": [
       "9"
      ]
     },
     "execution_count": 12,
     "metadata": {},
     "output_type": "execute_result"
    }
   ],
   "source": [
    "%%time\n",
    "def count(indata):\n",
    "    t_gene_count = gene_count.copy()\n",
    "    f_1,f_2,n = indata[0],indata[1],indata[2]\n",
    "    file_1 = SeqIO.parse(gzip.open(f_1,\"rt\"),\"fastq\")\n",
    "    file_2 = SeqIO.parse(gzip.open(f_2,\"rt\"),\"fastq\")\n",
    "    count=0\n",
    "    print('processing: '+n['experiment'])\n",
    "    for r1,r2 in zip(file_1,file_2):\n",
    "        count+=1\n",
    "        t_gene_count[out_codon((r1,r2))]+=1\n",
    "    t_gene_count = pd.DataFrame.from_dict(t_gene_count,orient='index')\n",
    "    t_gene_count.columns = [n['experiment']]\n",
    "    print('done:'+n['experiment'])\n",
    "    return t_gene_count\n",
    "    \n",
    "from multiprocessing import Pool\n",
    "if __name__ == '__main__':\n",
    "    with Pool(processes=10) as pool:\n",
    "        all_df = pool.map(count, all_files)\n",
    "len(all_df)  "
   ]
  },
  {
   "cell_type": "code",
   "execution_count": 13,
   "metadata": {},
   "outputs": [
    {
     "data": {
      "text/plain": [
       "['1-Amp',\n",
       " '2-Amp',\n",
       " '3-Amp',\n",
       " '5-Amp',\n",
       " '6-Amp',\n",
       " '7-Amp',\n",
       " '8-Amp',\n",
       " '9-Amp',\n",
       " '10-Amp']"
      ]
     },
     "execution_count": 13,
     "metadata": {},
     "output_type": "execute_result"
    }
   ],
   "source": [
    "experiments = [n['experiment'] for n in replace_list]\n",
    "experiments"
   ]
  },
  {
   "cell_type": "code",
   "execution_count": 14,
   "metadata": {},
   "outputs": [
    {
     "data": {
      "text/html": [
       "<div>\n",
       "<style scoped>\n",
       "    .dataframe tbody tr th:only-of-type {\n",
       "        vertical-align: middle;\n",
       "    }\n",
       "\n",
       "    .dataframe tbody tr th {\n",
       "        vertical-align: top;\n",
       "    }\n",
       "\n",
       "    .dataframe thead th {\n",
       "        text-align: right;\n",
       "    }\n",
       "</style>\n",
       "<table border=\"1\" class=\"dataframe\">\n",
       "  <thead>\n",
       "    <tr style=\"text-align: right;\">\n",
       "      <th></th>\n",
       "      <th>1-Amp</th>\n",
       "      <th>2-Amp</th>\n",
       "      <th>3-Amp</th>\n",
       "      <th>5-Amp</th>\n",
       "      <th>6-Amp</th>\n",
       "      <th>7-Amp</th>\n",
       "      <th>8-Amp</th>\n",
       "      <th>9-Amp</th>\n",
       "      <th>10-Amp</th>\n",
       "    </tr>\n",
       "  </thead>\n",
       "  <tbody>\n",
       "    <tr>\n",
       "      <th>ATA</th>\n",
       "      <td>1911</td>\n",
       "      <td>1892</td>\n",
       "      <td>1069492</td>\n",
       "      <td>354189</td>\n",
       "      <td>1090241</td>\n",
       "      <td>970742</td>\n",
       "      <td>855893</td>\n",
       "      <td>1923573</td>\n",
       "      <td>1038446</td>\n",
       "    </tr>\n",
       "    <tr>\n",
       "      <th>ATC</th>\n",
       "      <td>872</td>\n",
       "      <td>906</td>\n",
       "      <td>239655</td>\n",
       "      <td>1209550</td>\n",
       "      <td>600726</td>\n",
       "      <td>430627</td>\n",
       "      <td>397423</td>\n",
       "      <td>380214</td>\n",
       "      <td>424677</td>\n",
       "    </tr>\n",
       "    <tr>\n",
       "      <th>ATT</th>\n",
       "      <td>6952</td>\n",
       "      <td>6772</td>\n",
       "      <td>688034</td>\n",
       "      <td>5959857</td>\n",
       "      <td>6412945</td>\n",
       "      <td>2324347</td>\n",
       "      <td>1755615</td>\n",
       "      <td>4255701</td>\n",
       "      <td>4450371</td>\n",
       "    </tr>\n",
       "    <tr>\n",
       "      <th>ATG</th>\n",
       "      <td>326</td>\n",
       "      <td>395</td>\n",
       "      <td>434651</td>\n",
       "      <td>1020</td>\n",
       "      <td>817</td>\n",
       "      <td>237704</td>\n",
       "      <td>266081</td>\n",
       "      <td>8262</td>\n",
       "      <td>47793</td>\n",
       "    </tr>\n",
       "    <tr>\n",
       "      <th>ACA</th>\n",
       "      <td>1127</td>\n",
       "      <td>1262</td>\n",
       "      <td>968515</td>\n",
       "      <td>1915</td>\n",
       "      <td>1185</td>\n",
       "      <td>1456942</td>\n",
       "      <td>1393433</td>\n",
       "      <td>1788</td>\n",
       "      <td>2342</td>\n",
       "    </tr>\n",
       "  </tbody>\n",
       "</table>\n",
       "</div>"
      ],
      "text/plain": [
       "     1-Amp  2-Amp    3-Amp    5-Amp    6-Amp    7-Amp    8-Amp    9-Amp  \\\n",
       "ATA   1911   1892  1069492   354189  1090241   970742   855893  1923573   \n",
       "ATC    872    906   239655  1209550   600726   430627   397423   380214   \n",
       "ATT   6952   6772   688034  5959857  6412945  2324347  1755615  4255701   \n",
       "ATG    326    395   434651     1020      817   237704   266081     8262   \n",
       "ACA   1127   1262   968515     1915     1185  1456942  1393433     1788   \n",
       "\n",
       "      10-Amp  \n",
       "ATA  1038446  \n",
       "ATC   424677  \n",
       "ATT  4450371  \n",
       "ATG    47793  \n",
       "ACA     2342  "
      ]
     },
     "execution_count": 14,
     "metadata": {},
     "output_type": "execute_result"
    }
   ],
   "source": [
    "all_df = pd.concat(all_df,axis=1)\n",
    "all_df.head()"
   ]
  },
  {
   "cell_type": "code",
   "execution_count": 15,
   "metadata": {},
   "outputs": [],
   "source": [
    "all_df = all_df[experiments]\n",
    "all_df.to_csv('all_df.csv')"
   ]
  },
  {
   "cell_type": "code",
   "execution_count": 5,
   "metadata": {},
   "outputs": [
    {
     "data": {
      "application/vnd.jupyter.widget-view+json": {
       "model_id": "5928001424a14d67bf0d92c17b08771a",
       "version_major": 2,
       "version_minor": 0
      },
      "text/plain": [
       "HBox(children=(IntProgress(value=0, max=9), HTML(value='')))"
      ]
     },
     "metadata": {},
     "output_type": "display_data"
    },
    {
     "name": "stdout",
     "output_type": "stream",
     "text": [
      "1-Amp/res\n",
      "2-Amp/res\n",
      "3-Amp/res\n",
      "5-Amp/res\n",
      "6-Amp/res\n",
      "7-Amp/res\n",
      "8-Amp/res\n",
      "9-Amp/res\n",
      "10-Amp/res\n",
      "\n"
     ]
    }
   ],
   "source": [
    "all_files = []\n",
    "replace_list = eval(open('vars5.txt').read())\n",
    "for n in tqdm_notebook(replace_list):\n",
    "    print(n['experiment']+'/'+'res')"
   ]
  },
  {
   "cell_type": "code",
   "execution_count": 10,
   "metadata": {},
   "outputs": [
    {
     "name": "stdout",
     "output_type": "stream",
     "text": [
      "ls: cannot access 2-Amp/res: No such file or directory\r\n"
     ]
    }
   ],
   "source": [
    "\n"
   ]
  },
  {
   "cell_type": "code",
   "execution_count": null,
   "metadata": {},
   "outputs": [],
   "source": []
  }
 ],
 "metadata": {
  "finalized": {
   "timestamp": 1613204039372,
   "trusted": true
  },
  "kernelspec": {
   "display_name": "Python 3",
   "language": "python",
   "name": "python3"
  },
  "language_info": {
   "codemirror_mode": {
    "name": "ipython",
    "version": 3
   },
   "file_extension": ".py",
   "mimetype": "text/x-python",
   "name": "python",
   "nbconvert_exporter": "python",
   "pygments_lexer": "ipython3",
   "version": "3.6.7"
  },
  "toc": {
   "base_numbering": 1,
   "nav_menu": {},
   "number_sections": true,
   "sideBar": true,
   "skip_h1_title": false,
   "title_cell": "Table of Contents",
   "title_sidebar": "Contents",
   "toc_cell": false,
   "toc_position": {},
   "toc_section_display": true,
   "toc_window_display": false
  }
 },
 "nbformat": 4,
 "nbformat_minor": 2
}
